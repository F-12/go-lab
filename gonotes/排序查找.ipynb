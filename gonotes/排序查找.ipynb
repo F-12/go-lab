{
 "cells": [
  {
   "cell_type": "code",
   "execution_count": 11,
   "metadata": {},
   "outputs": [],
   "source": [
    "import (\n",
    "    \"sort\"\n",
    "    \"fmt\"\n",
    ")"
   ]
  },
  {
   "cell_type": "markdown",
   "metadata": {},
   "source": [
    "# 排序基本类型的切片"
   ]
  },
  {
   "cell_type": "markdown",
   "metadata": {},
   "source": [
    "## 数字类型"
   ]
  },
  {
   "cell_type": "code",
   "execution_count": 2,
   "metadata": {},
   "outputs": [],
   "source": [
    "a := []int{3,1,4,1,5,9,2,6}\n",
    "sort.Ints(a)"
   ]
  },
  {
   "cell_type": "code",
   "execution_count": 3,
   "metadata": {},
   "outputs": [
    {
     "data": {
      "text/plain": [
       "[1 1 2 3 4 5 6 9]"
      ]
     },
     "execution_count": 3,
     "metadata": {},
     "output_type": "execute_result"
    }
   ],
   "source": [
    "a"
   ]
  },
  {
   "cell_type": "code",
   "execution_count": 5,
   "metadata": {},
   "outputs": [],
   "source": [
    "f := []float64{5.2, -1.3, 0.7, -3.8, 2.6}\n",
    "sort.Float64s(f)"
   ]
  },
  {
   "cell_type": "code",
   "execution_count": 6,
   "metadata": {},
   "outputs": [
    {
     "data": {
      "text/plain": [
       "[-3.8 -1.3 0.7 2.6 5.2]"
      ]
     },
     "execution_count": 6,
     "metadata": {},
     "output_type": "execute_result"
    }
   ],
   "source": [
    "f"
   ]
  },
  {
   "cell_type": "markdown",
   "metadata": {},
   "source": [
    "## 字符串类型"
   ]
  },
  {
   "cell_type": "code",
   "execution_count": 7,
   "metadata": {},
   "outputs": [],
   "source": [
    "s := []string{\"Go\", \"Bravo\", \"Gopher\", \"Alpha\", \"Grin\", \"Delta\"}\n",
    "sort.Strings(s)"
   ]
  },
  {
   "cell_type": "code",
   "execution_count": 8,
   "metadata": {},
   "outputs": [
    {
     "data": {
      "text/plain": [
       "[Alpha Bravo Delta Go Gopher Grin]"
      ]
     },
     "execution_count": 8,
     "metadata": {},
     "output_type": "execute_result"
    }
   ],
   "source": [
    "s"
   ]
  },
  {
   "cell_type": "markdown",
   "metadata": {},
   "source": [
    "## 自定义类型"
   ]
  },
  {
   "cell_type": "markdown",
   "metadata": {},
   "source": [
    "### 通用方法\n",
    "\n",
    "```go\n",
    "func Sort(data Interface)\n",
    "```"
   ]
  },
  {
   "cell_type": "markdown",
   "metadata": {},
   "source": [
    "**自定义类型**"
   ]
  },
  {
   "cell_type": "code",
   "execution_count": 20,
   "metadata": {},
   "outputs": [],
   "source": [
    "type Person struct {\n",
    "\tName string\n",
    "\tAge  int\n",
    "}"
   ]
  },
  {
   "cell_type": "markdown",
   "metadata": {},
   "source": [
    "**命名切片类型**  \n",
    "\n",
    "- 给自定义类型的切片定义一个对应的类型\n",
    "- 实现sort.Interface接口"
   ]
  },
  {
   "cell_type": "code",
   "execution_count": 16,
   "metadata": {},
   "outputs": [],
   "source": [
    "type ByAge []Person\n",
    "\n",
    "func (a ByAge) Len() int           { return len(a) }\n",
    "func (a ByAge) Swap(i, j int)      { a[i], a[j] = a[j], a[i] }\n",
    "func (a ByAge) Less(i, j int) bool { return a[i].Age < a[j].Age }"
   ]
  },
  {
   "cell_type": "markdown",
   "metadata": {},
   "source": [
    "**类型转换后排序**\n",
    "- 自定义类型的切片进行转型\n",
    "- 调用排序函数"
   ]
  },
  {
   "cell_type": "code",
   "execution_count": 26,
   "metadata": {},
   "outputs": [],
   "source": [
    "persons := []Person{\n",
    "    {\"张三\", 23},\n",
    "    {\"李四\", 21},\n",
    "    {\"王五\", 25},\n",
    "    {\"赵六\", 20},\n",
    "}\n",
    "\n",
    "sort.Sort(ByAge(persons))"
   ]
  },
  {
   "cell_type": "code",
   "execution_count": 27,
   "metadata": {},
   "outputs": [
    {
     "data": {
      "text/plain": [
       "[{赵六 20} {李四 21} {张三 23} {王五 25}]"
      ]
     },
     "execution_count": 27,
     "metadata": {},
     "output_type": "execute_result"
    }
   ],
   "source": [
    "persons"
   ]
  },
  {
   "cell_type": "code",
   "execution_count": 24,
   "metadata": {},
   "outputs": [],
   "source": [
    "persons := []Person{\n",
    "    {\"张三\", 23},\n",
    "    {\"李四\", 21},\n",
    "    {\"王五\", 25},\n",
    "    {\"赵六\", 20},\n",
    "}\n",
    "\n",
    "sort.Slice(persons, func(i,j int) bool { return persons[i].Age < persons[j].Age })"
   ]
  },
  {
   "cell_type": "code",
   "execution_count": 25,
   "metadata": {},
   "outputs": [
    {
     "data": {
      "text/plain": [
       "[{赵六 20} {李四 21} {张三 23} {王五 25}]"
      ]
     },
     "execution_count": 25,
     "metadata": {},
     "output_type": "execute_result"
    }
   ],
   "source": [
    "persons"
   ]
  },
  {
   "cell_type": "markdown",
   "metadata": {},
   "source": [
    "## 进阶方法\n",
    "\n",
    "- SortKeys模式\n",
    "- SortMultiKeys模式\n",
    "- 嵌入类型模式"
   ]
  },
  {
   "cell_type": "code",
   "execution_count": null,
   "metadata": {},
   "outputs": [],
   "source": []
  }
 ],
 "metadata": {
  "kernelspec": {
   "display_name": "Go",
   "language": "go",
   "name": "gophernotes"
  },
  "language_info": {
   "codemirror_mode": "",
   "file_extension": ".go",
   "mimetype": "",
   "name": "go",
   "nbconvert_exporter": "",
   "pygments_lexer": "",
   "version": "go1.14.3"
  }
 },
 "nbformat": 4,
 "nbformat_minor": 4
}
